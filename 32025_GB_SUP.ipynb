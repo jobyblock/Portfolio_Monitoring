{
 "cells": [
  {
   "cell_type": "code",
   "execution_count": 0,
   "metadata": {
    "application/vnd.databricks.v1+cell": {
     "cellMetadata": {
      "byteLimit": 2048000,
      "rowLimit": 10000
     },
     "inputWidgets": {},
     "nuid": "93a310dc-85d3-4d10-beae-8c24355d32b8",
     "showTitle": false,
     "tableResultSettingsMap": {},
     "title": ""
    }
   },
   "outputs": [],
   "source": [
    "import json\n",
    "# from jsonpath_ng import jsonpath, parse\n",
    "# from jsonpath import jsonpath\n",
    "import pandas as pd\n",
    "import numpy as np\n",
    "\n",
    "# from utils import policy_dict, policy_data_dict, find_non_zero_riskweight_rules, find_zero_riskweight_rules\n",
    "from pandasql import sqldf\n",
    "from tqdm import tqdm\n",
    "import logging\n",
    "\n",
    "from pysnowflake import Session\n",
    "\n",
    "pd.set_option('display.max_rows', 300)\n",
    "pd.set_option('display.max_columns', 100)\n",
    "pd.set_option('display.float_format', lambda x: '%.3f' % x)\n",
    "\n",
    "run_query = lambda query: sqldf(query, globals())\n",
    "\n",
    "\n"
   ]
  },
  {
   "cell_type": "code",
   "execution_count": 0,
   "metadata": {
    "application/vnd.databricks.v1+cell": {
     "cellMetadata": {
      "byteLimit": 2048000,
      "rowLimit": 10000
     },
     "inputWidgets": {},
     "nuid": "0ed274a0-a886-4f0c-9ca3-30151fcbd97f",
     "showTitle": false,
     "tableResultSettingsMap": {},
     "title": ""
    }
   },
   "outputs": [],
   "source": [
    "USER_NAME = 'jobyg' #replace it with your ldap name\n",
    "sess = Session(\n",
    "   connection_override_args={\n",
    "       'autocommit': True,\n",
    "       'authenticator': 'externalbrowser',\n",
    "       'account': 'square',\n",
    "       'database': f'PERSONAL_{USER_NAME.upper()}',\n",
    "       'user': f'{USER_NAME}@squareup.com'\n",
    "   }\n",
    "   \n",
    ")\n",
    "conn = sess.open()\n",
    "\n"
   ]
  },
  {
   "cell_type": "code",
   "execution_count": 0,
   "metadata": {
    "application/vnd.databricks.v1+cell": {
     "cellMetadata": {
      "byteLimit": 2048000,
      "rowLimit": 10000
     },
     "inputWidgets": {},
     "nuid": "5312d4cb-64c3-454c-8a8e-5f65bbd1c496",
     "showTitle": false,
     "tableResultSettingsMap": {},
     "title": ""
    }
   },
   "outputs": [],
   "source": [
    "from datetime import date, timedelta\n",
    "# Format the date as YYYY-MM-DD\n",
    "start_date = '2024-01-01'\n",
    "end_date = date.today().strftime(\"%Y-%m-%d\")\n",
    "\n",
    "\n",
    "conn.execute('use warehouse ADHOC__XLARGE')\n",
    "conn.execute('use database AP_CUR_FRDRISK_G')\n",
    "conn.execute('use schema public')\n",
    "\n",
    "conn.execute(f'''create or replace temp table SUP_attempts as \n",
    "(select a.*, b.p2_overdue_d0_local, b.p2_due_local, b.sup_yn,\n",
    " case when b.sup_yn = 1 and in_flight_order_channel != 'SINGLE_USE_CARD' then 1 else 0 end as alert   from ap_cur_r_frdrisk.curated_fraud_risk_red.unified_feature_datamart_base__jobyg_dsl3_sv a\n",
    " left join ap_cur_riskbi_g.curated_risk_bi_green.dwm_order_loss_tagging b\n",
    " on a.order_token = b.order_token\n",
    " where (a.par_Region ilike 'GB' and par_process_date >='{start_date}')  \n",
    "and (a.in_flight_order_channel = 'SINGLE_USE_CARD' or b.sup_yn = 1)\n",
    "and a.checkpoint = 'CHECKOUT_CONFIRM'\n",
    "AND COALESCE(a.DAYS_SINCE_FIRST_ORDER_DATE,0) <15\n",
    "and a.dedup = 1);\n",
    "\n",
    "''')"
   ]
  },
  {
   "cell_type": "code",
   "execution_count": 0,
   "metadata": {
    "application/vnd.databricks.v1+cell": {
     "cellMetadata": {
      "byteLimit": 2048000,
      "rowLimit": 10000
     },
     "inputWidgets": {},
     "nuid": "d7e17230-dbb6-4a11-9e3e-4c0fa84dde31",
     "showTitle": false,
     "tableResultSettingsMap": {},
     "title": ""
    }
   },
   "outputs": [],
   "source": [
    "#create a list of features to subset and analyze \n",
    "\n",
    "feat_list = ['IN_FLIGHT_ORDER_MERCHANT_NAME'\n",
    ",'CONSUMER_ACCOUNT_LINKING_TYPE'\n",
    ",'CONSUMER_IS_FIRST_ORDER'\n",
    ",'CONSUMER_CONTACT_ADDRESS_POSTCODE']\n",
    "\n",
    "df_dict = {\"aggregate\":{},\n",
    "           'time':{}\n",
    "           }\n",
    "\n",
    "for var in feat_list:\n",
    "    var_query = f'''select \n",
    "    --date_trunc('week',par_process_date) as week_dt,\n",
    "        {var},\n",
    "        sum(case when is_in_attempt_control_group = 1 then p2_overdue_d0_local end) as p2_overdue,\n",
    "            sum(case when is_in_attempt_control_group = 1 then p2_due_local end) as p2_due,\n",
    "            div0(sum(case when is_in_attempt_control_group =1 then p2_overdue_d0_local end), sum(case when is_in_attempt_control_group =1 then p2_due_local end)) as ctrl_grp_p2_d0_rate,\n",
    "\n",
    "            sum(order_amount_local) as gpv,\n",
    "            count(distinct(case when is_in_attempt_control_group=1 then order_token end)) as ctrl_token_ct,\n",
    "\n",
    "        sum(p2_overdue_d0_local ) as portfolio_p2_overdue,\n",
    "        sum(p2_due_local ) as portfolio_p2_due,\n",
    "        div0(sum( p2_overdue_d0_local ), sum(p2_due_local )) as portfolio_p2_d0_rate,\n",
    "        count(order_token) as token_ct,\n",
    "\n",
    "    from SUP_attempts  \n",
    "    group by 1\n",
    "    order by 1;\n",
    "    '''\n",
    "    temp = conn.download(var_query)\n",
    "    df_dict['aggregate'][var]= temp\n",
    "\n",
    "    alerts = temp[(temp['ctrl_grp_p2_d0_rate'] >=.35) & (temp['gpv']>500)]\n",
    "    if len(alerts) > 0 and var!='CONSUMER_CONTACT_ADDRESS_POSTCODE':\n",
    "        for idx, row in alerts.iterrows():\n",
    "            str_var = str(var).lower()\n",
    "            print(f\"- {row[str_var]} with GPV ${row['gpv']:,.2f} has fraud rate of {row['portfolio_p2_d0_rate']:.1%}\")\n",
    "\n",
    "\n",
    "    "
   ]
  },
  {
   "cell_type": "code",
   "execution_count": 0,
   "metadata": {
    "application/vnd.databricks.v1+cell": {
     "cellMetadata": {
      "byteLimit": 2048000,
      "rowLimit": 10000
     },
     "inputWidgets": {},
     "nuid": "e9e0d685-cee0-41ea-8a63-018628197b39",
     "showTitle": false,
     "tableResultSettingsMap": {},
     "title": ""
    }
   },
   "outputs": [],
   "source": [
    "for var in feat_list:\n",
    "    time_query = f'''select \n",
    "        to_varchar(par_process_date, 'YYYY-MM') as month_dt,\n",
    "            {var},\n",
    "            sum(case when is_in_attempt_control_group = 1 then p2_overdue_d0_local end) as p2_overdue,\n",
    "                sum(case when is_in_attempt_control_group = 1 then p2_due_local end) as p2_due,\n",
    "                div0(sum(case when is_in_attempt_control_group =1 then p2_overdue_d0_local end), sum(case when is_in_attempt_control_group =1 then p2_due_local end)) as ctrl_grp_p2_d0_rate,\n",
    "\n",
    "                sum(case when order_token_loss is not null then order_amount_local end) as gpv,\n",
    "                count(order_token) as token_ct,\n",
    "\n",
    "                count(distinct(case when is_in_attempt_control_group=1 then order_token end)) as ctrl_token_ct,\n",
    "            sum(p2_overdue_d0_local ) as portfolio_p2_overdue,\n",
    "            sum(p2_due_local ) as portfolio_p2_due,\n",
    "            div0(sum( p2_overdue_d0_local ), sum(p2_due_local )) as portfolio_p2_d0_rate,\n",
    "        from SUP_attempts  \n",
    "        where order_token_loss is not null\n",
    "        group by 1,2\n",
    "        order by 1,2;\n",
    "        '''\n",
    "    temp = conn.download(time_query)\n",
    "    temp_fixed = run_query(f'''select \n",
    "                        month_dt \n",
    "                        ,case when gpv > 10000 then {var} else 'Other' end as merchant_name\n",
    "                        ,sum(p2_overdue) as ctrl_group_p2_overdue\n",
    "                        ,sum(p2_due) as ctrl_group_p2_due\n",
    "                        ,sum(p2_overdue)/nullif(sum(p2_due),0) as ctrl_group_p2_d0_rate\n",
    "                        ,sum(gpv) as gpv\n",
    "                        ,sum(token_ct) as token_ct\n",
    "                        ,sum(ctrl_token_ct) as ctrl_token_ct\n",
    "                        ,sum(portfolio_p2_overdue ) as portfolio_p2_overdue\n",
    "                        ,sum(portfolio_p2_due ) as portfolio_p2_due\n",
    "                        ,sum(portfolio_p2_overdue)/nullif(sum(portfolio_p2_due),0) as portfolio_p2_d0_rate\n",
    "                        from temp\n",
    "                        group by 1,2\n",
    "                        order by 1,2\n",
    "                         ''')\n",
    "    # temp_fixed['ctrl_group_p2_d0_rate'] = temp_fixed['portfolio_p2_d0_rate']\n",
    "    df_dict['time'][var] = temp_fixed\n"
   ]
  },
  {
   "cell_type": "markdown",
   "metadata": {
    "application/vnd.databricks.v1+cell": {
     "cellMetadata": {},
     "inputWidgets": {},
     "nuid": "8ae60ff7-ee84-4de9-9e06-590c0bbea0cf",
     "showTitle": false,
     "tableResultSettingsMap": {},
     "title": ""
    }
   },
   "source": [
    "\n",
    "# Graphs to help make my demonstration\n",
    "\n",
    "GPV by merchant over time (Stacked bar)\n",
    "\n",
    "P2 Overdue by merchant over time (Stacked bar)\n",
    "\n"
   ]
  },
  {
   "cell_type": "code",
   "execution_count": 0,
   "metadata": {
    "application/vnd.databricks.v1+cell": {
     "cellMetadata": {
      "byteLimit": 2048000,
      "rowLimit": 10000
     },
     "inputWidgets": {},
     "nuid": "0e6cc16e-f0fb-49f3-b1d3-b36b59063860",
     "showTitle": false,
     "tableResultSettingsMap": {},
     "title": ""
    }
   },
   "outputs": [],
   "source": [
    "df_dict['aggregate']['IN_FLIGHT_ORDER_MERCHANT_NAME'].sort_values(by=[ 'gpv' ], ascending=[False])"
   ]
  },
  {
   "cell_type": "code",
   "execution_count": 0,
   "metadata": {
    "application/vnd.databricks.v1+cell": {
     "cellMetadata": {
      "byteLimit": 2048000,
      "rowLimit": 10000
     },
     "inputWidgets": {},
     "nuid": "b6fb857d-07dc-43c2-bc29-7f4fdf875e8e",
     "showTitle": false,
     "tableResultSettingsMap": {},
     "title": ""
    }
   },
   "outputs": [],
   "source": [
    "gpv_df = df_dict['time']['IN_FLIGHT_ORDER_MERCHANT_NAME'].copy() \n",
    "df_pivot = gpv_df.pivot_table(index='month_dt', columns='merchant_name', values='gpv', aggfunc='sum')\n",
    "\n",
    "df_pivot_percentage = df_pivot.div(df_pivot.sum(axis=1), axis=0) * 100\n",
    "palette = sns.color_palette(\"Set2\", 16)  \n",
    "# gpv_df['percent'] = gpv_df['gpv'] / gpv_df.groupby('month_dt')['gpv'].transform('sum') * 100\n",
    "# Plot the 100% stacked bar chart\n",
    "ax = df_pivot_percentage.plot(kind='bar', stacked=True, figsize=(20,16),  color=palette)\n",
    "\n",
    "# Set the plot labels and title\n",
    "ax.set_xlabel('Month')\n",
    "ax.set_ylabel('Percentage (%)')\n",
    "ax.set_title('100% Stacked Column Chart: Sales by Merchant')\n",
    "ax.legend(title=\"Merchants\", loc=\"upper center\", bbox_to_anchor=(0.5, -0.1), ncol=3, fontsize=9)\n",
    "\n",
    "# Show the plot\n",
    "plt.show()"
   ]
  },
  {
   "cell_type": "code",
   "execution_count": 0,
   "metadata": {
    "application/vnd.databricks.v1+cell": {
     "cellMetadata": {
      "byteLimit": 2048000,
      "rowLimit": 10000
     },
     "inputWidgets": {},
     "nuid": "03c1e031-91ef-4a0f-bebd-994b2b0e3139",
     "showTitle": false,
     "tableResultSettingsMap": {},
     "title": ""
    }
   },
   "outputs": [],
   "source": [
    "gpv_df = df_dict['time']['IN_FLIGHT_ORDER_MERCHANT_NAME'].copy() \n",
    "df_pivot = gpv_df.pivot_table(index='month_dt', columns='merchant_name', values='portfolio_p2_overdue', aggfunc='sum')\n",
    "\n",
    "df_pivot_percentage = df_pivot.div(df_pivot.sum(axis=1), axis=0) * 100\n",
    "palette = sns.color_palette(\"Set2\", 16)  \n",
    "# gpv_df['percent'] = gpv_df['gpv'] / gpv_df.groupby('month_dt')['gpv'].transform('sum') * 100\n",
    "# Plot the 100% stacked bar chart\n",
    "ax = df_pivot_percentage.plot(kind='bar', stacked=True, figsize=(20,16),  color=palette)\n",
    "\n",
    "# Set the plot labels and title\n",
    "ax.set_xlabel('Month')\n",
    "ax.set_ylabel('Percentage (%)')\n",
    "ax.set_title('100% Stacked Column Chart: Portfolio P2D0 by Merchant')\n",
    "ax.legend(title=\"Merchants\", loc=\"upper center\", bbox_to_anchor=(0.5, -0.1), ncol=3, fontsize=9)\n",
    "\n",
    "# Show the plot\n",
    "plt.show()"
   ]
  },
  {
   "cell_type": "markdown",
   "metadata": {
    "application/vnd.databricks.v1+cell": {
     "cellMetadata": {
      "byteLimit": 2048000,
      "rowLimit": 10000
     },
     "inputWidgets": {},
     "nuid": "2ea5c8ca-5f65-4564-8cd9-9f59f97ddee6",
     "showTitle": false,
     "tableResultSettingsMap": {},
     "title": ""
    }
   },
   "source": [
    "\n",
    "# Analyzing tesco and currys"
   ]
  },
  {
   "cell_type": "code",
   "execution_count": 0,
   "metadata": {
    "application/vnd.databricks.v1+cell": {
     "cellMetadata": {
      "byteLimit": 2048000,
      "rowLimit": 10000
     },
     "inputWidgets": {},
     "nuid": "d5d21b53-0050-466b-878f-2790acc9c185",
     "showTitle": false,
     "tableResultSettingsMap": {},
     "title": ""
    }
   },
   "outputs": [],
   "source": [
    "tesco = conn.execute('''create or replace temp table tesco as (select * from SUP_attempts where in_flight_order_merchant_name ilike 'tesco'); ''')\n",
    "currys = conn.execute('''create or replace temp table currys as (select a.*, idv_check_result ,ekata_record_phone_Valid, ekata_record_phone_line_type,LEXISNEXIS_RECORD_SMARTSCORE from SUP_attempts a \n",
    "                      left join (select key_consumer_uuid, GDP_PROCESSED_DATETIME, IDV_CHECK_RESULT, ekata_record_phone_Valid, ekata_record_phone_line_type, LEXISNEXIS_RECORD_SMARTSCORE  from ap_raw_green.green.raw_c_e_idv_uksoft_id \n",
    "QUALIFY ROW_NUMBER() OVER (PARTITION BY  key_consumer_uuid ORDER BY GDP_PROCESSED_DATETIME DESC) = 1\n",
    ")d\n",
    "on a.consumer_id = d.key_consumer_uuid\n",
    "and a.par_process_date >= d.GDP_PROCESSED_DATETIME \n",
    "                      \n",
    "                      where in_flight_order_merchant_name ilike 'currys'); ''')"
   ]
  },
  {
   "cell_type": "code",
   "execution_count": 0,
   "metadata": {
    "application/vnd.databricks.v1+cell": {
     "cellMetadata": {
      "byteLimit": 2048000,
      "rowLimit": 10000
     },
     "inputWidgets": {},
     "nuid": "b462a119-1d32-4e4a-ab54-c7a56f29a543",
     "showTitle": false,
     "tableResultSettingsMap": {},
     "title": ""
    }
   },
   "outputs": [],
   "source": []
  },
  {
   "cell_type": "code",
   "execution_count": 0,
   "metadata": {
    "application/vnd.databricks.v1+cell": {
     "cellMetadata": {
      "byteLimit": 2048000,
      "rowLimit": 10000
     },
     "inputWidgets": {},
     "nuid": "a845b93c-7d00-47b8-b88a-592009b91507",
     "showTitle": false,
     "tableResultSettingsMap": {},
     "title": ""
    }
   },
   "outputs": [],
   "source": [
    "# what features do i think could be important here\n",
    "df_list = []\n",
    "feat_list=['CONSUMER_ACCOUNT_LINKING_TYPE'\n",
    ",' CONSUMER_IS_FIRST_ORDER']\n",
    "for var in feat_list:\n",
    "    time_query = f'''select \n",
    "        to_varchar(par_process_date, 'YYYY-MM') as month_dt,\n",
    "            {var},\n",
    "            sum(case when is_in_attempt_control_group = 1 then p2_overdue_d0_local end) as p2_overdue,\n",
    "                sum(case when is_in_attempt_control_group = 1 then p2_due_local end) as p2_due,\n",
    "                div0(sum(case when is_in_attempt_control_group =1 then p2_overdue_d0_local end), sum(case when is_in_attempt_control_group =1 then p2_due_local end)) as ctrl_grp_p2_d0_rate,\n",
    "\n",
    "                sum(case when order_token_loss is not null then order_amount_local end) as gpv,\n",
    "                count(order_token) as token_ct,\n",
    "\n",
    "                count(distinct(case when is_in_attempt_control_group=1 then order_token end)) as ctrl_token_ct,\n",
    "            sum(p2_overdue_d0_local ) as portfolio_p2_overdue,\n",
    "            sum(p2_due_local ) as portfolio_p2_due,\n",
    "            div0(sum( p2_overdue_d0_local ), sum(p2_due_local )) as portfolio_p2_d0_rate,\n",
    "        from tesco  \n",
    "        where order_token_loss is not null\n",
    "        group by 1,2\n",
    "        order by 1,2;\n",
    "        '''\n",
    "    df_list.append(conn.download(time_query))\n",
    "        \n",
    "    "
   ]
  },
  {
   "cell_type": "code",
   "execution_count": 0,
   "metadata": {
    "application/vnd.databricks.v1+cell": {
     "cellMetadata": {
      "byteLimit": 2048000,
      "rowLimit": 10000
     },
     "inputWidgets": {},
     "nuid": "65578306-e549-468f-81a9-e0ecc46042ae",
     "showTitle": false,
     "tableResultSettingsMap": {},
     "title": ""
    }
   },
   "outputs": [],
   "source": [
    "b = conn.download('''select \n",
    "                    CASE \n",
    "    WHEN in_flight_order_amount < 50 THEN '01. 0-50'\n",
    "    WHEN in_flight_order_amount < 100 THEN '02. 50-100'\n",
    "    WHEN in_flight_order_amount < 150 THEN '03. 100-150'\n",
    "    WHEN in_flight_order_amount < 200 THEN '04. 150-200'\n",
    "    WHEN in_flight_order_amount < 250 THEN '05. 200-250'\n",
    "    WHEN in_flight_order_amount < 300 THEN '06. 250-300'\n",
    "    ELSE '07. 300+' end as in_flight_order_bin,\n",
    "    \n",
    "     sum(case when is_in_attempt_control_group = 1 then p2_overdue_d0_local end) as p2_overdue,\n",
    "                sum(case when is_in_attempt_control_group = 1 then p2_due_local end) as p2_due,\n",
    "                div0(sum(case when is_in_attempt_control_group =1 then p2_overdue_d0_local end), sum(case when is_in_attempt_control_group =1 then p2_due_local end)) as ctrl_grp_p2_d0_rate,\n",
    "\n",
    "                sum(case when order_token_loss is not null then order_amount_local end) as gpv,\n",
    "                count(order_token) as token_ct,\n",
    "\n",
    "                count(distinct(case when is_in_attempt_control_group=1 then order_token end)) as ctrl_token_ct,\n",
    "            sum(p2_overdue_d0_local ) as portfolio_p2_overdue,\n",
    "            sum(p2_due_local ) as portfolio_p2_due,\n",
    "            div0(sum( p2_overdue_d0_local ), sum(p2_due_local )) as portfolio_p2_d0_rate,\n",
    "        from tesco  \n",
    "        where order_token_loss is not null\n",
    "        group by 1\n",
    "        order by 1;                \n",
    "                    ''')"
   ]
  },
  {
   "cell_type": "code",
   "execution_count": 0,
   "metadata": {
    "application/vnd.databricks.v1+cell": {
     "cellMetadata": {
      "byteLimit": 2048000,
      "rowLimit": 10000
     },
     "inputWidgets": {},
     "nuid": "54ecd37a-83f2-4f98-9fcd-628c8bafea82",
     "showTitle": false,
     "tableResultSettingsMap": {},
     "title": ""
    }
   },
   "outputs": [],
   "source": [
    "b.sort_values(by=['in_flight_order_bin']) #looks like 150 is a good order bin for tesco"
   ]
  },
  {
   "cell_type": "code",
   "execution_count": 0,
   "metadata": {
    "application/vnd.databricks.v1+cell": {
     "cellMetadata": {
      "byteLimit": 2048000,
      "rowLimit": 10000
     },
     "inputWidgets": {},
     "nuid": "f4393bbb-4326-48f7-9f7a-72ee19a2f1a8",
     "showTitle": false,
     "tableResultSettingsMap": {},
     "title": ""
    }
   },
   "outputs": [],
   "source": [
    "c = conn.download('''select \n",
    "                    CASE \n",
    "    WHEN in_flight_order_amount < 50 THEN '01. 0-50'\n",
    "    WHEN in_flight_order_amount < 100 THEN '02. 50-100'\n",
    "    WHEN in_flight_order_amount < 150 THEN '03. 100-150'\n",
    "    WHEN in_flight_order_amount < 200 THEN '04. 150-200'\n",
    "    WHEN in_flight_order_amount < 250 THEN '05. 200-250'\n",
    "    WHEN in_flight_order_amount < 300 THEN '06. 250-300'\n",
    "    ELSE '07. 300+' end as in_flight_order_bin,\n",
    "    case when consumer_Active_order_number between 0 and 2 then '01. 0-2'\n",
    "         when consumer_Active_order_number between 2 and 6 then '02. 2-6'\n",
    "         when consumer_Active_order_number between 6 and 10 then '03. 6-10'\n",
    "         else '10+' end as active_ordeR_number_bin,\n",
    "        \n",
    "     sum(case when is_in_attempt_control_group = 1 then p2_overdue_d0_local end) as p2_overdue,\n",
    "                sum(case when is_in_attempt_control_group = 1 then p2_due_local end) as p2_due,\n",
    "                div0(sum(case when is_in_attempt_control_group =1 then p2_overdue_d0_local end), sum(case when is_in_attempt_control_group =1 then p2_due_local end)) as ctrl_grp_p2_d0_rate,\n",
    "\n",
    "                sum(case when order_token_loss is not null then order_amount_local end) as gpv,\n",
    "                count(order_token) as token_ct,\n",
    "\n",
    "                count(distinct(case when is_in_attempt_control_group=1 then order_token end)) as ctrl_token_ct,\n",
    "            sum(p2_overdue_d0_local ) as portfolio_p2_overdue,\n",
    "            sum(p2_due_local ) as portfolio_p2_due,\n",
    "            div0(sum( p2_overdue_d0_local ), sum(p2_due_local )) as portfolio_p2_d0_rate,\n",
    "        from currys  \n",
    "        where order_token_loss is not null\n",
    "        group by 1,2\n",
    "        order by 1,2;                \n",
    "                    ''')"
   ]
  },
  {
   "cell_type": "code",
   "execution_count": 0,
   "metadata": {
    "application/vnd.databricks.v1+cell": {
     "cellMetadata": {
      "byteLimit": 2048000,
      "rowLimit": 10000
     },
     "inputWidgets": {},
     "nuid": "11de4b0c-a13a-4261-a452-c411db3ec3dc",
     "showTitle": false,
     "tableResultSettingsMap": {},
     "title": ""
    }
   },
   "outputs": [],
   "source": [
    "c.sort_values(by=['in_flight_order_bin', 'active_order_number_bin']) #nothing for currys"
   ]
  },
  {
   "cell_type": "code",
   "execution_count": 0,
   "metadata": {
    "application/vnd.databricks.v1+cell": {
     "cellMetadata": {
      "byteLimit": 2048000,
      "rowLimit": 10000
     },
     "inputWidgets": {},
     "nuid": "e275d750-0c7e-4026-b9d8-c9b081258d77",
     "showTitle": false,
     "tableResultSettingsMap": {},
     "title": ""
    }
   },
   "outputs": [],
   "source": [
    "e = conn.download('''select \n",
    "    consumer_account_linking_type,\n",
    "     sum(case when is_in_attempt_control_group = 1 then p2_overdue_d0_local end) as p2_overdue,\n",
    "                sum(case when is_in_attempt_control_group = 1 then p2_due_local end) as p2_due,\n",
    "                div0(sum(case when is_in_attempt_control_group =1 then p2_overdue_d0_local end), sum(case when is_in_attempt_control_group =1 then p2_due_local end)) as ctrl_grp_p2_d0_rate,\n",
    "\n",
    "                sum(case when order_token_loss is not null then order_amount_local end) as gpv,\n",
    "                count(order_token) as token_ct,\n",
    "\n",
    "                count(distinct(case when is_in_attempt_control_group=1 then order_token end)) as ctrl_token_ct,\n",
    "            sum(p2_overdue_d0_local ) as portfolio_p2_overdue,\n",
    "            sum(p2_due_local ) as portfolio_p2_due,\n",
    "            div0(sum( p2_overdue_d0_local ), sum(p2_due_local )) as portfolio_p2_d0_rate,\n",
    "        from currys  \n",
    "        where order_token_loss is not null\n",
    "        group by 1\n",
    "        order by 1;                \n",
    "                    ''')"
   ]
  },
  {
   "cell_type": "code",
   "execution_count": 0,
   "metadata": {
    "application/vnd.databricks.v1+cell": {
     "cellMetadata": {
      "byteLimit": 2048000,
      "rowLimit": 10000
     },
     "inputWidgets": {},
     "nuid": "7a3480fb-fa13-49e8-9300-bf44449188a3",
     "showTitle": false,
     "tableResultSettingsMap": {},
     "title": ""
    }
   },
   "outputs": [],
   "source": [
    "e"
   ]
  },
  {
   "cell_type": "code",
   "execution_count": 0,
   "metadata": {
    "application/vnd.databricks.v1+cell": {
     "cellMetadata": {
      "byteLimit": 2048000,
      "rowLimit": 10000
     },
     "inputWidgets": {},
     "nuid": "1b9ce252-8ec7-4f0c-95fe-a4f570c307dc",
     "showTitle": false,
     "tableResultSettingsMap": {},
     "title": ""
    }
   },
   "outputs": [],
   "source": [
    "# what features do i think could be important here\n",
    "df_list = []\n",
    "feat_list=['IDV_CHECK_RESULT', 'ekata_record_phone_Valid', 'ekata_record_phone_line_type']\n",
    "for var in feat_list:\n",
    "    time_query = f'''select \n",
    "            {var},\n",
    "            sum(case when is_in_attempt_control_group = 1 then p2_overdue_d0_local end) as p2_overdue,\n",
    "                sum(case when is_in_attempt_control_group = 1 then p2_due_local end) as p2_due,\n",
    "                div0(sum(case when is_in_attempt_control_group =1 then p2_overdue_d0_local end), sum(case when is_in_attempt_control_group =1 then p2_due_local end)) as ctrl_grp_p2_d0_rate,\n",
    "\n",
    "                sum(case when order_token_loss is not null then order_amount_local end) as gpv,\n",
    "                count(order_token) as token_ct,\n",
    "\n",
    "                count(distinct(case when is_in_attempt_control_group=1 then order_token end)) as ctrl_token_ct,\n",
    "            sum(p2_overdue_d0_local ) as portfolio_p2_overdue,\n",
    "            sum(p2_due_local ) as portfolio_p2_due,\n",
    "            div0(sum( p2_overdue_d0_local ), sum(p2_due_local )) as portfolio_p2_d0_rate,\n",
    "        from currys  \n",
    "        where order_token_loss is not null\n",
    "        group by 1\n",
    "        order by 1;\n",
    "        '''\n",
    "    print(time_query)\n",
    "    df_list.append(conn.download(time_query))\n",
    "        \n",
    "    "
   ]
  },
  {
   "cell_type": "code",
   "execution_count": 0,
   "metadata": {
    "application/vnd.databricks.v1+cell": {
     "cellMetadata": {
      "byteLimit": 2048000,
      "rowLimit": 10000
     },
     "inputWidgets": {},
     "nuid": "348e326c-f1f7-45a0-9722-5a7d62f2265e",
     "showTitle": false,
     "tableResultSettingsMap": {},
     "title": ""
    }
   },
   "outputs": [],
   "source": [
    "df_list[0]"
   ]
  },
  {
   "cell_type": "code",
   "execution_count": 0,
   "metadata": {
    "application/vnd.databricks.v1+cell": {
     "cellMetadata": {
      "byteLimit": 2048000,
      "rowLimit": 10000
     },
     "inputWidgets": {},
     "nuid": "108cc190-7f48-40ed-9f4f-951c4e982390",
     "showTitle": false,
     "tableResultSettingsMap": {},
     "title": ""
    }
   },
   "outputs": [],
   "source": [
    "df_list[1]"
   ]
  },
  {
   "cell_type": "code",
   "execution_count": 0,
   "metadata": {
    "application/vnd.databricks.v1+cell": {
     "cellMetadata": {
      "byteLimit": 2048000,
      "rowLimit": 10000
     },
     "inputWidgets": {},
     "nuid": "0ed05d19-9c63-43f8-bdff-e67d544bfb68",
     "showTitle": false,
     "tableResultSettingsMap": {},
     "title": ""
    }
   },
   "outputs": [],
   "source": [
    "df_list[2]"
   ]
  },
  {
   "cell_type": "code",
   "execution_count": 0,
   "metadata": {
    "application/vnd.databricks.v1+cell": {
     "cellMetadata": {
      "byteLimit": 2048000,
      "rowLimit": 10000
     },
     "inputWidgets": {},
     "nuid": "72bc0e37-4cfb-442d-8020-dfc09387aaae",
     "showTitle": false,
     "tableResultSettingsMap": {},
     "title": ""
    }
   },
   "outputs": [],
   "source": [
    "12269.700/(12269.700+22648.801)"
   ]
  },
  {
   "cell_type": "code",
   "execution_count": 0,
   "metadata": {
    "application/vnd.databricks.v1+cell": {
     "cellMetadata": {
      "byteLimit": 2048000,
      "rowLimit": 10000
     },
     "inputWidgets": {},
     "nuid": "be28732b-74cf-4b34-aead-8e66e91b3d0f",
     "showTitle": false,
     "tableResultSettingsMap": {},
     "title": ""
    }
   },
   "outputs": [],
   "source": [
    "872/(1726+872)"
   ]
  },
  {
   "cell_type": "code",
   "execution_count": 0,
   "metadata": {
    "application/vnd.databricks.v1+cell": {
     "cellMetadata": {
      "byteLimit": 2048000,
      "rowLimit": 10000
     },
     "inputWidgets": {},
     "nuid": "d9864e4c-ed00-4d25-8e7f-e19177fe6549",
     "showTitle": false,
     "tableResultSettingsMap": {},
     "title": ""
    }
   },
   "outputs": [],
   "source": [
    "def generate_case_when(column_name, thresholds_dict):\n",
    "    \"\"\"\n",
    "    Generate a SQL CASE WHEN statement based on thresholds dictionary.\n",
    "    \n",
    "    Args:\n",
    "        column_name (str): The name of the column to use in the CASE statement\n",
    "        thresholds_dict (dict): Dictionary with operators as keys and thresholds as values\n",
    "        \n",
    "    Returns:\n",
    "        str: Formatted CASE WHEN statement\n",
    "    \"\"\"\n",
    "    # Sort the thresholds to ensure correct ordering\n",
    "    sorted_items = []\n",
    "    exact_match = None\n",
    "    \n",
    "    # Process the thresholds and operators\n",
    "    for op, val in thresholds_dict.items():\n",
    "        if op == '=':\n",
    "            exact_match = val\n",
    "        else:\n",
    "            # Strip any operators and convert to integer\n",
    "            threshold = int(''.join(filter(str.isdigit, str(val))))\n",
    "            sorted_items.append((threshold, op))\n",
    "    \n",
    "    # Sort by threshold value\n",
    "    sorted_items.sort()\n",
    "    \n",
    "    # Build the CASE statement\n",
    "    case_stmt = [f\"CASE\"]\n",
    "    \n",
    "    # Add exact match if exists\n",
    "    if exact_match is not None:\n",
    "        case_stmt.append(f\"    WHEN {column_name} = {exact_match} THEN '{exact_match}'\")\n",
    "    \n",
    "    # Process the ranges\n",
    "    for i in range(len(sorted_items)):\n",
    "        current_threshold = sorted_items[i][0]\n",
    "        \n",
    "        if i == 0 and exact_match is not None:\n",
    "            # First range after exact match\n",
    "            start = exact_match + 1\n",
    "        elif i == 0:\n",
    "            # First range with no exact match\n",
    "            start = 1\n",
    "        else:\n",
    "            # Start from previous threshold + 1\n",
    "            start = sorted_items[i-1][0] + 1\n",
    "            \n",
    "        end = current_threshold\n",
    "        \n",
    "        # Add the WHEN clause\n",
    "        case_stmt.append(f\"    WHEN {column_name} BETWEEN {start} AND {end} THEN '{start}-{end}'\")\n",
    "    \n",
    "    # Add the ELSE clause for the last condition\n",
    "    if sorted_items:\n",
    "        last_threshold = sorted_items[-1][0]\n",
    "        case_stmt.append(f\"    ELSE '>{last_threshold}'\")\n",
    "    \n",
    "    case_stmt.append(\"END\")\n",
    "    \n",
    "    return '\\n'.join(case_stmt)\n",
    "test_dict = {'=': 0, '<=': 14, '<': 30, '>': 365}\n",
    "generate_case_when('whitepages_primary_email_address_checks_email_first_seen_days', test_dict)"
   ]
  },
  {
   "cell_type": "code",
   "execution_count": 0,
   "metadata": {
    "application/vnd.databricks.v1+cell": {
     "cellMetadata": {
      "byteLimit": 2048000,
      "rowLimit": 10000
     },
     "inputWidgets": {},
     "nuid": "421b0bb5-0afc-41f7-b6d2-3b037f505dfb",
     "showTitle": false,
     "tableResultSettingsMap": {},
     "title": ""
    }
   },
   "outputs": [],
   "source": [
    "d  = conn.download('''select \n",
    "   CASE\\n    WHEN whitepages_primary_email_address_checks_email_first_seen_days = 0 THEN '0'\\n    WHEN whitepages_primary_email_address_checks_email_first_seen_days BETWEEN 1 AND 14 THEN '1-14'\\n    WHEN whitepages_primary_email_address_checks_email_first_seen_days BETWEEN 15 AND 30 THEN '15-30'\\n    WHEN whitepages_primary_email_address_checks_email_first_seen_days BETWEEN 31 AND 365 THEN '31-365'\\n    ELSE '>365'\\nEND as whitepages_bin,\n",
    "   \n",
    "     sum(case when is_in_attempt_control_group = 1 then p2_overdue_d0_local end) as p2_overdue,\n",
    "                sum(case when is_in_attempt_control_group = 1 then p2_due_local end) as p2_due,\n",
    "                div0(sum(case when is_in_attempt_control_group =1 then p2_overdue_d0_local end), sum(case when is_in_attempt_control_group =1 then p2_due_local end)) as ctrl_grp_p2_d0_rate,\n",
    "\n",
    "                sum(case when order_token_loss is not null then order_amount_local end) as gpv,\n",
    "                count(order_token) as token_ct,\n",
    "\n",
    "                count(distinct(case when is_in_attempt_control_group=1 then order_token end)) as ctrl_token_ct,\n",
    "            sum(p2_overdue_d0_local ) as portfolio_p2_overdue,\n",
    "            sum(p2_due_local ) as portfolio_p2_due,\n",
    "            div0(sum( p2_overdue_d0_local ), sum(p2_due_local )) as portfolio_p2_d0_rate,\n",
    "        from currys  \n",
    "        where order_token_loss is not null\n",
    "        group by 1\n",
    "        order by 1;                \n",
    "                    ''')"
   ]
  },
  {
   "cell_type": "code",
   "execution_count": 0,
   "metadata": {
    "application/vnd.databricks.v1+cell": {
     "cellMetadata": {
      "byteLimit": 2048000,
      "rowLimit": 10000
     },
     "inputWidgets": {},
     "nuid": "96c65954-2fa1-4830-a24a-6cfc9b9108a2",
     "showTitle": false,
     "tableResultSettingsMap": {},
     "title": ""
    }
   },
   "outputs": [],
   "source": [
    "d"
   ]
  },
  {
   "cell_type": "code",
   "execution_count": 0,
   "metadata": {
    "application/vnd.databricks.v1+cell": {
     "cellMetadata": {
      "byteLimit": 2048000,
      "rowLimit": 10000
     },
     "inputWidgets": {},
     "nuid": "fc3bec56-0f68-470e-821a-68db5db892bd",
     "showTitle": false,
     "tableResultSettingsMap": {},
     "title": ""
    }
   },
   "outputs": [],
   "source": [
    "def create_decile_bins(df, column_name):\n",
    "    \"\"\"\n",
    "    Creates a CASE statement for binning data based on deciles of a numeric column\n",
    "    \n",
    "    Args:\n",
    "        df: pandas DataFrame\n",
    "        column_name: name of the numeric column to calculate deciles for\n",
    "    \n",
    "    Returns:\n",
    "        str: SQL CASE statement for binning\n",
    "    \"\"\"\n",
    "    # Calculate deciles (0 to 100 by 10)\n",
    "    deciles = df[column_name].quantile([i/10 for i in range(1, 11)]).round(3)\n",
    "    \n",
    "    # Build CASE statement\n",
    "    case_stmt = f\"CASE\\n\"\n",
    "    \n",
    "    # First bin (up to 10th percentile)\n",
    "    case_stmt += f\"  WHEN {column_name} <= {deciles[0.1]} THEN '(0) <{deciles[0.1]}'\\n\"\n",
    "    \n",
    "    # Middle bins (10th to 90th percentile)\n",
    "    for i in range(1, 9):\n",
    "        lower = deciles[i/10]\n",
    "        upper = deciles[(i+1)/10]\n",
    "        case_stmt += f\"  WHEN {column_name} > {lower} AND {column_name} <= {upper} THEN '({i}) {lower}-{upper}'\\n\"\n",
    "    \n",
    "    # Last bin (above 90th percentile)\n",
    "    case_stmt += f\"  WHEN {column_name} > {deciles[0.9]} THEN '(9) {deciles[0.9]}'\\n\"\n",
    "    \n",
    "    case_stmt += f\"END AS {column_name}_bin\"\n",
    "    \n",
    "    # Print decile values for reference\n",
    "    print(\"Decile values:\")\n",
    "    for i, value in enumerate(deciles, 1):\n",
    "        print(f\"{i*10}th percentile: {value}\")\n",
    "        \n",
    "    return case_stmt"
   ]
  },
  {
   "cell_type": "code",
   "execution_count": 0,
   "metadata": {
    "application/vnd.databricks.v1+cell": {
     "cellMetadata": {
      "byteLimit": 2048000,
      "rowLimit": 10000
     },
     "inputWidgets": {},
     "nuid": "7ecce3df-d18d-4828-ae6b-922498c41ddb",
     "showTitle": false,
     "tableResultSettingsMap": {},
     "title": ""
    }
   },
   "outputs": [],
   "source": [
    "sup_Attempts = conn.download('select * from SUP_attempts')"
   ]
  },
  {
   "cell_type": "code",
   "execution_count": 0,
   "metadata": {
    "application/vnd.databricks.v1+cell": {
     "cellMetadata": {
      "byteLimit": 2048000,
      "rowLimit": 10000
     },
     "inputWidgets": {},
     "nuid": "18f1b36f-bfdb-45af-aa7c-a797b9c5b706",
     "showTitle": false,
     "tableResultSettingsMap": {},
     "title": ""
    }
   },
   "outputs": [],
   "source": [
    "numeric_case_when_dict = {}\n",
    "add_cols =   ['BP_C_BATCH_CONSUMER_BATCH_MODEL_V1'\n",
    ",'MODEL_ONLINE_OD_ABUSIVE_GLOBAL_APRIL_2024_SCORE'\n",
    ",'MODEL_ONLINE_OD_GLOBAL_PAYBACK_SUP_MODEL_AUGUST_2023_SCORE'\n",
    ",'MODEL_ONLINE_OD_PAYBACK_NON_US_APRIL_2024_SCORE']\n",
    "\n",
    "add_cols = [col.lower() for col in add_cols]\n",
    "numeric_cols = [\n",
    "       'whitepages_identity_check_score',\n",
    "       'whitepages_identity_network_score'\n",
    "]\n",
    "numeric_cols.extend(add_cols)\n",
    "numeric_cols\n",
    "for col in numeric_cols:\n",
    "    numeric_case_when_dict[col+'_bin']=create_decile_bins(sup_Attempts, col)"
   ]
  },
  {
   "cell_type": "code",
   "execution_count": 0,
   "metadata": {
    "application/vnd.databricks.v1+cell": {
     "cellMetadata": {
      "byteLimit": 2048000,
      "rowLimit": 10000
     },
     "inputWidgets": {},
     "nuid": "4ad7f290-f346-4a12-a6f2-3dfe07ca3f03",
     "showTitle": false,
     "tableResultSettingsMap": {},
     "title": ""
    }
   },
   "outputs": [],
   "source": [
    "categorical_cols = []\n",
    "query = f''' create or replace  table final_driver as (select \n",
    "    \n",
    "a.*'''\n",
    "\n",
    "for  key, case_when in numeric_case_when_dict.items():\n",
    "    query += f', {case_when}'\n",
    "    categorical_cols.append(key)\n",
    "\n",
    "query+=\" from currys a);\"\n",
    "print(query)\n",
    "conn.execute(query)"
   ]
  },
  {
   "cell_type": "code",
   "execution_count": 0,
   "metadata": {
    "application/vnd.databricks.v1+cell": {
     "cellMetadata": {
      "byteLimit": 2048000,
      "rowLimit": 10000
     },
     "inputWidgets": {},
     "nuid": "a7994f92-7033-4ebf-8b94-a600be406471",
     "showTitle": false,
     "tableResultSettingsMap": {},
     "title": ""
    }
   },
   "outputs": [],
   "source": [
    " return_dict = {}\n",
    " for column in categorical_cols:\n",
    "     print(f'working on {column}')\n",
    "     output = conn.download(f'''  select \n",
    " {column},\n",
    " \n",
    "    sum(case when is_in_attempt_control_group = 1 then p2_overdue_d0_local end) as p2_overdue,\n",
    "                sum(case when is_in_attempt_control_group = 1 then p2_due_local end) as p2_due,\n",
    "                div0(sum(case when is_in_attempt_control_group =1 then p2_overdue_d0_local end), sum(case when is_in_attempt_control_group =1 then p2_due_local end)) as ctrl_grp_p2_d0_rate,\n",
    "\n",
    "                sum(case when order_token_loss is not null then order_amount_local end) as gpv,\n",
    "                count(order_token) as token_ct,\n",
    "\n",
    "                count(distinct(case when is_in_attempt_control_group=1 then order_token end)) as ctrl_token_ct,\n",
    "            sum(p2_overdue_d0_local ) as portfolio_p2_overdue,\n",
    "            sum(p2_due_local ) as portfolio_p2_due,\n",
    "            div0(sum( p2_overdue_d0_local ), sum(p2_due_local )) as portfolio_p2_d0_rate,\n",
    "    \n",
    "from final_driver a \n",
    "\n",
    "where 1=1\n",
    "-- and is_in_attempt_control_group = 1 \n",
    "\n",
    "group by 1\n",
    "order by 1\n",
    ";\n",
    "''')\n",
    "     if output['ctrl_grp_p2_d0_rate'].max() > .35:\n",
    "         return_dict[column] = output\n",
    "         print(f'{column} had a segment >= .35 p2d0')\n",
    "         "
   ]
  },
  {
   "cell_type": "code",
   "execution_count": 0,
   "metadata": {
    "application/vnd.databricks.v1+cell": {
     "cellMetadata": {
      "byteLimit": 2048000,
      "rowLimit": 10000
     },
     "inputWidgets": {},
     "nuid": "078fbbe3-a558-4620-b926-4efda22345c3",
     "showTitle": false,
     "tableResultSettingsMap": {},
     "title": ""
    }
   },
   "outputs": [],
   "source": [
    "return_dict['whitepages_identity_check_score_bin'].sort_values(by='whitepages_identity_check_score_bin')"
   ]
  },
  {
   "cell_type": "code",
   "execution_count": 0,
   "metadata": {
    "application/vnd.databricks.v1+cell": {
     "cellMetadata": {
      "byteLimit": 2048000,
      "rowLimit": 10000
     },
     "inputWidgets": {},
     "nuid": "b1d152da-6402-47dd-b3d0-64caa8b58d7b",
     "showTitle": false,
     "tableResultSettingsMap": {},
     "title": ""
    }
   },
   "outputs": [],
   "source": [
    "return_dict['whitepages_identity_check_score_bin']['token_ct'].sum()"
   ]
  },
  {
   "cell_type": "code",
   "execution_count": 0,
   "metadata": {
    "application/vnd.databricks.v1+cell": {
     "cellMetadata": {},
     "inputWidgets": {},
     "nuid": "64492fe6-8add-4bd8-8e78-07c2792ab807",
     "showTitle": false,
     "tableResultSettingsMap": {},
     "title": ""
    }
   },
   "outputs": [],
   "source": [
    "()"
   ]
  },
  {
   "cell_type": "code",
   "execution_count": 0,
   "metadata": {
    "application/vnd.databricks.v1+cell": {
     "cellMetadata": {
      "byteLimit": 2048000,
      "rowLimit": 10000
     },
     "inputWidgets": {},
     "nuid": "751b09db-d29e-4bc2-857e-de6f83bb52f4",
     "showTitle": false,
     "tableResultSettingsMap": {},
     "title": ""
    }
   },
   "outputs": [],
   "source": [
    "(1691+1013+271+34)/(1354+1698+1940+2187+2054+1795+1691+1013+271+34) #44% of transactions jfc "
   ]
  },
  {
   "cell_type": "code",
   "execution_count": 0,
   "metadata": {
    "application/vnd.databricks.v1+cell": {
     "cellMetadata": {
      "byteLimit": 2048000,
      "rowLimit": 10000
     },
     "inputWidgets": {},
     "nuid": "742b084f-9af7-40eb-964c-9d61f60d097b",
     "showTitle": false,
     "tableResultSettingsMap": {},
     "title": ""
    }
   },
   "outputs": [],
   "source": [
    "return_dict['whitepages_identity_network_score_bin'].sort_values(by='whitepages_identity_network_score_bin')"
   ]
  },
  {
   "cell_type": "code",
   "execution_count": 0,
   "metadata": {
    "application/vnd.databricks.v1+cell": {
     "cellMetadata": {
      "byteLimit": 2048000,
      "rowLimit": 10000
     },
     "inputWidgets": {},
     "nuid": "72c333ce-b341-4226-916a-bcdac10e8532",
     "showTitle": false,
     "tableResultSettingsMap": {},
     "title": ""
    }
   },
   "outputs": [],
   "source": [
    "return_dict['bp_c_batch_consumer_batch_model_v1_bin'].sort_values(by='bp_c_batch_consumer_batch_model_v1_bin') #plausible"
   ]
  },
  {
   "cell_type": "code",
   "execution_count": 0,
   "metadata": {
    "application/vnd.databricks.v1+cell": {
     "cellMetadata": {
      "byteLimit": 2048000,
      "rowLimit": 10000
     },
     "inputWidgets": {},
     "nuid": "88312a5a-b409-4da3-942e-7e121fc77cfd",
     "showTitle": false,
     "tableResultSettingsMap": {},
     "title": ""
    }
   },
   "outputs": [],
   "source": [
    "token_denom = return_dict['bp_c_batch_consumer_batch_model_v1_bin'].token_ct.sum()"
   ]
  },
  {
   "cell_type": "code",
   "execution_count": 0,
   "metadata": {
    "application/vnd.databricks.v1+cell": {
     "cellMetadata": {
      "byteLimit": 2048000,
      "rowLimit": 10000
     },
     "inputWidgets": {},
     "nuid": "ea7747ae-4bb0-46f0-bf67-befcbee13862",
     "showTitle": false,
     "tableResultSettingsMap": {},
     "title": ""
    }
   },
   "outputs": [],
   "source": [
    "ctrl_denom = return_dict['bp_c_batch_consumer_batch_model_v1_bin'].p2_overdue.sum()"
   ]
  },
  {
   "cell_type": "code",
   "execution_count": 0,
   "metadata": {
    "application/vnd.databricks.v1+cell": {
     "cellMetadata": {
      "byteLimit": 2048000,
      "rowLimit": 10000
     },
     "inputWidgets": {},
     "nuid": "9d03b179-5a39-4e29-a9b0-777115a7df69",
     "showTitle": false,
     "tableResultSettingsMap": {},
     "title": ""
    }
   },
   "outputs": [],
   "source": [
    "(151.8+255.2+375.8+130+236)/ctrl_denom"
   ]
  },
  {
   "cell_type": "code",
   "execution_count": 0,
   "metadata": {
    "application/vnd.databricks.v1+cell": {
     "cellMetadata": {
      "byteLimit": 2048000,
      "rowLimit": 10000
     },
     "inputWidgets": {},
     "nuid": "5dbf41c3-0e98-43a6-abc8-1cc234395259",
     "showTitle": false,
     "tableResultSettingsMap": {},
     "title": ""
    }
   },
   "outputs": [],
   "source": [
    "(255.2+375.8+130+236)/ctrl_denom"
   ]
  },
  {
   "cell_type": "code",
   "execution_count": 0,
   "metadata": {
    "application/vnd.databricks.v1+cell": {
     "cellMetadata": {
      "byteLimit": 2048000,
      "rowLimit": 10000
     },
     "inputWidgets": {},
     "nuid": "d09d401f-74ff-44b1-a610-8144d8e4557f",
     "showTitle": false,
     "tableResultSettingsMap": {},
     "title": ""
    }
   },
   "outputs": [],
   "source": [
    "(1388+1440+1689+2053+2845)/token_denom\n",
    "(255.2+375.8+130+236)/ctrl_denom"
   ]
  },
  {
   "cell_type": "code",
   "execution_count": 0,
   "metadata": {
    "application/vnd.databricks.v1+cell": {
     "cellMetadata": {
      "byteLimit": 2048000,
      "rowLimit": 10000
     },
     "inputWidgets": {},
     "nuid": "8d2636a8-c12f-4af0-aa7f-dc6956016ec0",
     "showTitle": false,
     "tableResultSettingsMap": {},
     "title": ""
    }
   },
   "outputs": [],
   "source": [
    "(1440+1689+2053+2845)/token_denom"
   ]
  },
  {
   "cell_type": "markdown",
   "metadata": {
    "application/vnd.databricks.v1+cell": {
     "cellMetadata": {},
     "inputWidgets": {},
     "nuid": "27d2558f-a17d-424e-ba18-c005122e0c29",
     "showTitle": false,
     "tableResultSettingsMap": {},
     "title": ""
    }
   },
   "source": [
    "\n",
    "#trying again with consumer model\n"
   ]
  },
  {
   "cell_type": "code",
   "execution_count": 0,
   "metadata": {
    "application/vnd.databricks.v1+cell": {
     "cellMetadata": {
      "byteLimit": 2048000,
      "rowLimit": 10000
     },
     "inputWidgets": {},
     "nuid": "613d5e08-e792-4020-9d46-d6145e3f1dd7",
     "showTitle": false,
     "tableResultSettingsMap": {},
     "title": ""
    }
   },
   "outputs": [],
   "source": [
    " return_dict = {}\n",
    " for column in categorical_cols:\n",
    "     print(f'working on {column}')\n",
    "     output = conn.download(f'''  select \n",
    " {column},\n",
    " \n",
    "    sum(case when is_in_attempt_control_group = 1 then p2_overdue_d0_local end) as p2_overdue,\n",
    "                sum(case when is_in_attempt_control_group = 1 then p2_due_local end) as p2_due,\n",
    "                div0(sum(case when is_in_attempt_control_group =1 then p2_overdue_d0_local end), sum(case when is_in_attempt_control_group =1 then p2_due_local end)) as ctrl_grp_p2_d0_rate,\n",
    "\n",
    "                sum(case when order_token_loss is not null then order_amount_local end) as gpv,\n",
    "                count(order_token) as token_ct,\n",
    "\n",
    "                count(distinct(case when is_in_attempt_control_group=1 then order_token end)) as ctrl_token_ct,\n",
    "            sum(p2_overdue_d0_local ) as portfolio_p2_overdue,\n",
    "            sum(p2_due_local ) as portfolio_p2_due,\n",
    "            div0(sum( p2_overdue_d0_local ), sum(p2_due_local )) as portfolio_p2_d0_rate,\n",
    "    \n",
    "from final_driver a \n",
    "\n",
    "where 1=1\n",
    "-- and is_in_attempt_control_group = 1 \n",
    "-- first segment to use\n",
    "and bp_c_batch_consumer_batch_model_v1 >= 650\n",
    "--second segment to use \n",
    "and model_online_od_payback_non_us_april_2024_score >= 455\n",
    "--\n",
    "group by 1\n",
    "order by 1\n",
    ";\n",
    "''')\n",
    "     if output['ctrl_grp_p2_d0_rate'].max() > .35:\n",
    "         return_dict[column] = output\n",
    "         print(f'{column} had a segment >= .35 p2d0')\n",
    "         "
   ]
  },
  {
   "cell_type": "code",
   "execution_count": 0,
   "metadata": {
    "application/vnd.databricks.v1+cell": {
     "cellMetadata": {
      "byteLimit": 2048000,
      "rowLimit": 10000
     },
     "inputWidgets": {},
     "nuid": "fd9cb9bf-65c0-487f-8c9c-fc49800412ac",
     "showTitle": false,
     "tableResultSettingsMap": {},
     "title": ""
    }
   },
   "outputs": [],
   "source": [
    "return_dict['model_online_od_global_payback_sup_model_august_2023_score_bin'].sort_values(by='model_online_od_global_payback_sup_model_august_2023_score_bin')"
   ]
  },
  {
   "cell_type": "code",
   "execution_count": 0,
   "metadata": {
    "application/vnd.databricks.v1+cell": {
     "cellMetadata": {
      "byteLimit": 2048000,
      "rowLimit": 10000
     },
     "inputWidgets": {},
     "nuid": "f6cb4a4c-31d6-4b12-840c-a0c5bfe367ae",
     "showTitle": false,
     "tableResultSettingsMap": {},
     "title": ""
    }
   },
   "outputs": [],
   "source": [
    "return_dict['model_online_od_abusive_global_april_2024_score_bin'].sort_values(by='model_online_od_abusive_global_april_2024_score_bin')"
   ]
  },
  {
   "cell_type": "code",
   "execution_count": 0,
   "metadata": {
    "application/vnd.databricks.v1+cell": {
     "cellMetadata": {
      "byteLimit": 2048000,
      "rowLimit": 10000
     },
     "inputWidgets": {},
     "nuid": "2c787564-b46a-415e-9730-22f0ae6e7d3f",
     "showTitle": false,
     "tableResultSettingsMap": {},
     "title": ""
    }
   },
   "outputs": [],
   "source": [
    "return_dict['model_online_od_payback_non_us_april_2024_score_bin'].sort_values(by='model_online_od_payback_non_us_april_2024_score_bin')"
   ]
  },
  {
   "cell_type": "code",
   "execution_count": 0,
   "metadata": {
    "application/vnd.databricks.v1+cell": {
     "cellMetadata": {
      "byteLimit": 2048000,
      "rowLimit": 10000
     },
     "inputWidgets": {},
     "nuid": "7c30e0b9-aea0-4ab1-bc4f-c550961e89b5",
     "showTitle": false,
     "tableResultSettingsMap": {},
     "title": ""
    }
   },
   "outputs": [],
   "source": [
    "(1212+1843+2612)/token_denom\n"
   ]
  },
  {
   "cell_type": "code",
   "execution_count": 0,
   "metadata": {
    "application/vnd.databricks.v1+cell": {
     "cellMetadata": {
      "byteLimit": 2048000,
      "rowLimit": 10000
     },
     "inputWidgets": {},
     "nuid": "da41dd9c-1bb2-407e-b6e7-2734a46cd051",
     "showTitle": false,
     "tableResultSettingsMap": {},
     "title": ""
    }
   },
   "outputs": [],
   "source": [
    "(411.490+181.5+130+126.74)/ctrl_denom"
   ]
  },
  {
   "cell_type": "code",
   "execution_count": 0,
   "metadata": {
    "application/vnd.databricks.v1+cell": {
     "cellMetadata": {
      "byteLimit": 2048000,
      "rowLimit": 10000
     },
     "inputWidgets": {},
     "nuid": "0d575a4c-e0bd-47c1-bbda-19834e68e5c9",
     "showTitle": false,
     "tableResultSettingsMap": {},
     "title": ""
    }
   },
   "outputs": [],
   "source": [
    "return_dict['whitepages_identity_network_score_bin'].sort_values(by='whitepages_identity_network_score_bin')"
   ]
  },
  {
   "cell_type": "code",
   "execution_count": 0,
   "metadata": {
    "application/vnd.databricks.v1+cell": {
     "cellMetadata": {
      "byteLimit": 2048000,
      "rowLimit": 10000
     },
     "inputWidgets": {},
     "nuid": "395f173a-ba16-49fe-9f6f-1d9d1d4ba2f9",
     "showTitle": false,
     "tableResultSettingsMap": {},
     "title": ""
    }
   },
   "outputs": [],
   "source": [
    "return_dict['whitepages_identity_check_score_bin'].sort_values(by='whitepages_identity_check_score_bin')"
   ]
  },
  {
   "cell_type": "code",
   "execution_count": 0,
   "metadata": {
    "application/vnd.databricks.v1+cell": {
     "cellMetadata": {},
     "inputWidgets": {},
     "nuid": "10e5b332-e979-4047-a484-5fe5b11def8b",
     "showTitle": false,
     "tableResultSettingsMap": {},
     "title": ""
    }
   },
   "outputs": [],
   "source": [
    "return_dict['model_online_od_global_payback_sup_model_august_2023_score_bin'].sort_values(by='model_online_od_global_payback_sup_model_august_2023_score_bin') #plausible"
   ]
  },
  {
   "cell_type": "code",
   "execution_count": 0,
   "metadata": {
    "application/vnd.databricks.v1+cell": {
     "cellMetadata": {
      "byteLimit": 2048000,
      "rowLimit": 10000
     },
     "inputWidgets": {},
     "nuid": "1659d989-c4ea-4fa1-94f3-f2adb6d75fd6",
     "showTitle": false,
     "tableResultSettingsMap": {},
     "title": ""
    }
   },
   "outputs": [],
   "source": [
    "return_dict['model_online_od_global_payback_sup_model_august_2023_score_bin'].token_ct.sum()"
   ]
  },
  {
   "cell_type": "code",
   "execution_count": 0,
   "metadata": {
    "application/vnd.databricks.v1+cell": {
     "cellMetadata": {
      "byteLimit": 2048000,
      "rowLimit": 10000
     },
     "inputWidgets": {},
     "nuid": "c43665d9-723a-4825-b9dc-2afb6ff78535",
     "showTitle": false,
     "tableResultSettingsMap": {},
     "title": ""
    }
   },
   "outputs": [],
   "source": [
    "return_dict['model_online_od_global_payback_sup_model_august_2023_score_bin'].portfolio_p2_overdue.sum()"
   ]
  },
  {
   "cell_type": "code",
   "execution_count": 0,
   "metadata": {
    "application/vnd.databricks.v1+cell": {
     "cellMetadata": {
      "byteLimit": 2048000,
      "rowLimit": 10000
     },
     "inputWidgets": {},
     "nuid": "950d93e9-d7b5-43a0-927c-2f409a726adb",
     "showTitle": false,
     "tableResultSettingsMap": {},
     "title": ""
    }
   },
   "outputs": [],
   "source": [
    "(2693.100+2579.690+2060.630+1235.980+1135.100)/34963.5 #how is this possible, how does 44% of transactions only eliminate 27.7% of p2d0 "
   ]
  },
  {
   "cell_type": "code",
   "execution_count": 0,
   "metadata": {
    "application/vnd.databricks.v1+cell": {
     "cellMetadata": {
      "byteLimit": 2048000,
      "rowLimit": 10000
     },
     "inputWidgets": {},
     "nuid": "c698f87f-3a4a-4542-b1d7-0aef8adcd0ac",
     "showTitle": false,
     "tableResultSettingsMap": {},
     "title": ""
    }
   },
   "outputs": [],
   "source": [
    "(818+925+1132+1369+1978)/14037 #44% of transactions jfc "
   ]
  },
  {
   "cell_type": "markdown",
   "metadata": {
    "application/vnd.databricks.v1+cell": {
     "cellMetadata": {},
     "inputWidgets": {},
     "nuid": "28d3657a-d9b0-4cf6-9cbd-d74114f2342d",
     "showTitle": false,
     "tableResultSettingsMap": {},
     "title": ""
    }
   },
   "source": [
    "\n",
    "# repeating the above but with a filter on whitepages identity score"
   ]
  },
  {
   "cell_type": "code",
   "execution_count": 0,
   "metadata": {
    "application/vnd.databricks.v1+cell": {
     "cellMetadata": {},
     "inputWidgets": {},
     "nuid": "bc20a1df-c2fa-4315-bd30-93508d5d03c8",
     "showTitle": false,
     "tableResultSettingsMap": {},
     "title": ""
    }
   },
   "outputs": [],
   "source": []
  },
  {
   "cell_type": "code",
   "execution_count": 0,
   "metadata": {
    "application/vnd.databricks.v1+cell": {
     "cellMetadata": {
      "byteLimit": 2048000,
      "rowLimit": 10000
     },
     "inputWidgets": {},
     "nuid": "d3e14d7e-ca1a-448c-8271-eec484fdd997",
     "showTitle": false,
     "tableResultSettingsMap": {},
     "title": ""
    }
   },
   "outputs": [],
   "source": [
    " return_dict = {}\n",
    " for column in categorical_cols:\n",
    "     print(f'working on {column}')\n",
    "     output = conn.download(f'''  select \n",
    " {column},\n",
    " \n",
    "    sum(case when is_in_attempt_control_group = 1 then p2_overdue_d0_local end) as p2_overdue,\n",
    "                sum(case when is_in_attempt_control_group = 1 then p2_due_local end) as p2_due,\n",
    "                div0(sum(case when is_in_attempt_control_group =1 then p2_overdue_d0_local end), sum(case when is_in_attempt_control_group =1 then p2_due_local end)) as ctrl_grp_p2_d0_rate,\n",
    "\n",
    "                sum(case when order_token_loss is not null then order_amount_local end) as gpv,\n",
    "                count(order_token) as token_ct,\n",
    "\n",
    "                count(distinct(case when is_in_attempt_control_group=1 then order_token end)) as ctrl_token_ct,\n",
    "            sum(p2_overdue_d0_local ) as portfolio_p2_overdue,\n",
    "            sum(p2_due_local ) as portfolio_p2_due,\n",
    "            div0(sum( p2_overdue_d0_local ), sum(p2_due_local )) as portfolio_p2_d0_rate,\n",
    "    \n",
    "from final_driver a \n",
    "\n",
    "where 1=1\n",
    "-- and is_in_attempt_control_group = 1 \n",
    "    and whitepages_identity_check_score >= 255\n",
    "group by 1\n",
    "order by 1\n",
    ";\n",
    "''')\n",
    "     if output['ctrl_grp_p2_d0_rate'].max() > .35:\n",
    "         return_dict[column] = output\n",
    "         print(f'{column} had a segment >= .35 p2d0')\n",
    "         "
   ]
  },
  {
   "cell_type": "code",
   "execution_count": 0,
   "metadata": {
    "application/vnd.databricks.v1+cell": {
     "cellMetadata": {
      "byteLimit": 2048000,
      "rowLimit": 10000
     },
     "inputWidgets": {},
     "nuid": "5b975755-dd96-4575-8433-2c5f7cef7a24",
     "showTitle": false,
     "tableResultSettingsMap": {},
     "title": ""
    }
   },
   "outputs": [],
   "source": [
    "return_dict['bp_c_batch_consumer_batch_model_v1_bin'].sort_values(by='bp_c_batch_consumer_batch_model_v1_bin') #plausible"
   ]
  },
  {
   "cell_type": "code",
   "execution_count": 0,
   "metadata": {
    "application/vnd.databricks.v1+cell": {
     "cellMetadata": {
      "byteLimit": 2048000,
      "rowLimit": 10000
     },
     "inputWidgets": {},
     "nuid": "1aa161ec-781c-44a0-817c-03508621b37c",
     "showTitle": false,
     "tableResultSettingsMap": {},
     "title": ""
    }
   },
   "outputs": [],
   "source": [
    "test = conn.download('select * from currys where p2_overdue_d0_local > 0')"
   ]
  },
  {
   "cell_type": "code",
   "execution_count": 0,
   "metadata": {
    "application/vnd.databricks.v1+cell": {
     "cellMetadata": {
      "byteLimit": 2048000,
      "rowLimit": 10000
     },
     "inputWidgets": {},
     "nuid": "03b06521-1146-4721-81c7-a3f3c68028b1",
     "showTitle": false,
     "tableResultSettingsMap": {},
     "title": ""
    }
   },
   "outputs": [],
   "source": [
    "test"
   ]
  },
  {
   "cell_type": "code",
   "execution_count": 0,
   "metadata": {
    "application/vnd.databricks.v1+cell": {
     "cellMetadata": {
      "byteLimit": 2048000,
      "rowLimit": 10000
     },
     "inputWidgets": {},
     "nuid": "6a84b22f-25af-458a-8fb7-f5967dd25a60",
     "showTitle": false,
     "tableResultSettingsMap": {},
     "title": ""
    }
   },
   "outputs": [],
   "source": [
    "list_A = [\"400538723\", \"400570637\", \"400575272\", \"400568202\", \"400504709\", \"400535118\", \"400551784\", \"400527714\", \"400515891\", \"400546925\", \"400527604\", \"400562359\", \"400474538\", \"400571508\", \"400515894\", \"400569331\", \"400572942\", \"400547364\", \"400474394\", \"400527759\", \"400575150\", \"400562345\", \"400570636\", \"400527737\", \"400527047\", \"400474401\", \"400475455\", \"400527639\", \"400527593\", \"400517492\", \"400574444\", \"400461110\", \"400488351\", \"400507556\", \"400527756\", \"400569337\", \"400527058\", \"400570624\", \"400510052\", \"400510042\", \"400515896\", \"400575275\", \"400527704\", \"400514646\", \"400527833\", \"400522690\", \"400527601\", \"400562315\", \"400579004\", \"400527066\", \"400507557\", \"400509583\", \"400507558\"]\n",
    "\n",
    "list_B = [\"400538723\", \"400570637\", \"400575272\", \"400568202\", \"400504709\", \"400535118\", \"400551784\", \"400527714\", \"400515891\", \"400546925\", \"400527604\", \"400562359\", \"400474538\", \"400571508\", \"400515894\", \"400569331\", \"400572942\", \"400547364\", \"400474394\", \"400527759\", \"400575150\", \"400562345\", \"400570636\", \"400527737\", \"400527047\", \"400474401\", \"400475455\", \"400527639\", \"400527593\", \"400517492\", \"400574444\", \"400461110\", \"400488351\", \"400507556\", \"400527756\", \"400569337\", \"400527058\", \"400570624\", \"400510052\", \"400510042\", \"400515896\", \"400575275\"]\n",
    "print(len(list_A), len(list_B))"
   ]
  },
  {
   "cell_type": "code",
   "execution_count": 0,
   "metadata": {
    "application/vnd.databricks.v1+cell": {
     "cellMetadata": {},
     "inputWidgets": {},
     "nuid": "3c430239-c3f3-4414-aefe-808978dd0de9",
     "showTitle": false,
     "tableResultSettingsMap": {},
     "title": ""
    }
   },
   "outputs": [],
   "source": []
  }
 ],
 "metadata": {
  "application/vnd.databricks.v1+notebook": {
   "computePreferences": null,
   "dashboards": [],
   "environmentMetadata": {
    "base_environment": "",
    "environment_version": "2"
   },
   "language": "python",
   "notebookMetadata": {
    "pythonIndentUnit": 4
   },
   "notebookName": "32025_GB_SUP",
   "widgets": {}
  },
  "language_info": {
   "name": "python"
  }
 },
 "nbformat": 4,
 "nbformat_minor": 0
}
